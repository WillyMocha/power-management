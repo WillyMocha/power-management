{
 "cells": [
  {
   "cell_type": "code",
   "execution_count": 77,
   "metadata": {},
   "outputs": [],
   "source": [
    "import requests\n",
    "import json\n",
    "import mysql.connector\n",
    "import numpy as np\n",
    "from decimal import Decimal\n",
    "from mysql.connector import Error\n",
    "from collections import namedtuple\n",
    "from antares_http import antares\n",
    "    \n",
    "url = \"https://platform.antares.id:8443/~/antares-cse/antares-id/power_management/token/la\"\n",
    "payload = \"\"\n",
    "headers = {\n",
    "    'X-M2M-Origin': \"f0a8c253151082fa:a32e0b8df59ac9d6\",\n",
    "    'Content-Type': \"application/json;ty=4\",\n",
    "    'Accept': \"application/json\",\n",
    "    'cache-control': \"no-cache\"\n",
    "}\n",
    "    \n",
    "response = requests.request(\"GET\", url, data=payload, headers=headers).json()\n",
    "data = response\n",
    "result = json.loads(data['m2m:cin']['con'] , object_hook=lambda d: namedtuple('X', d.keys())(*d.values()))\n",
    "\n",
    "token = result.token"
   ]
  },
  {
   "cell_type": "code",
   "execution_count": 78,
   "metadata": {},
   "outputs": [
    {
     "name": "stdout",
     "output_type": "stream",
     "text": [
      "Total number of rows in Device is:  9\n",
      "\n",
      "Printing each record\n",
      "ID Device         Nama Device           Prioritas          Jam           Total Daya(KWh)\n",
      "17                  Server              1                 24               0.9\n",
      "Beban =  21.6\n",
      "\n",
      "\n",
      "9                  Komputer              2                 8               1.0\n",
      "Beban =  8.0\n",
      "\n",
      "\n",
      "11                  Mesin Fotocopy              3                 8               1.2\n",
      "Beban =  9.6\n",
      "\n",
      "\n",
      "14                  Printer              4                 8               0.05\n",
      "Beban =  0.4\n",
      "\n",
      "\n",
      "23                  Pompa Air              5                 24               0.125\n",
      "Beban =  3.0\n",
      "\n",
      "\n",
      "18                  AC              6                 8               0.6\n",
      "Beban =  4.8\n",
      "\n",
      "\n",
      "19                  Amplifier              7                 24               0.23\n",
      "Beban =  5.5200000000000005\n",
      "\n",
      "\n",
      "13                  Speaker              8                 2               0.09\n",
      "Beban =  0.18\n",
      "\n",
      "\n",
      "15                  Lampu              9                 12               0.15\n",
      "Beban =  1.7999999999999998\n",
      "\n",
      "\n",
      "Total Beban =  54.9 KWh\n",
      "Token =  50\n",
      "\n",
      "\n"
     ]
    }
   ],
   "source": [
    "try:\n",
    "    connection = mysql.connector.connect(host='localhost',\n",
    "                                         database='ta',\n",
    "                                         user='root',\n",
    "                                         password='')\n",
    "\n",
    "    sql_select_Query = \"select id_device, nama, prioritas, jam, total_daya from device order by prioritas asc\"\n",
    "    cursor = connection.cursor()\n",
    "    cursor.execute(sql_select_Query)\n",
    "    records = cursor.fetchall()\n",
    "    prioritas = [0 for i in range(10)]\n",
    "    jam = [0 for i in range(10)]\n",
    "    total_daya = [0 for i in range(10)]\n",
    "    beban = [0 for i in range(10)]\n",
    "    total_beban = 0.0\n",
    "    print(\"Total number of rows in Device is: \", cursor.rowcount)\n",
    "    jumlah_data = cursor.rowcount\n",
    "    print(\"\\nPrinting each record\")\n",
    "    print(\"ID Device         Nama Device           Prioritas          Jam           Total Daya(KWh)\")\n",
    "    no = 0\n",
    "    for row in records:\n",
    "        id_device = row[0];\n",
    "        nama_device = row[1]\n",
    "        prioritas[no] = row[2]\n",
    "        jam[no] = row[3]\n",
    "        total_daya[no] = row[4]\n",
    "        beban[no] = jam[no] * total_daya[no]\n",
    "        total_beban += beban[no]\n",
    "        print('{0}                  {1}              {2}                 {3}               {4}'.format(id_device, nama_device, prioritas[no], jam[no], total_daya[no]))\n",
    "        print(\"Beban = \", beban[no])\n",
    "        print(\"\\n\")\n",
    "        no = no + 1\n",
    "    print('Total Beban = ', round(total_beban,2),\"KWh\")\n",
    "    print('Token = ', token)\n",
    "    print('\\n')\n",
    "except Error as e:\n",
    "    print(\"Error reading data from MySQL table\", e)\n",
    "finally:\n",
    "    if (connection.is_connected()):\n",
    "        connection.close()\n",
    "        cursor.close()"
   ]
  },
  {
   "cell_type": "code",
   "execution_count": 79,
   "metadata": {},
   "outputs": [
    {
     "name": "stdout",
     "output_type": "stream",
     "text": [
      "status : 1 21.6\n",
      "status : 1 29.6\n",
      "status : 1 39.2\n",
      "status : 1 39.6\n",
      "status : 1 42.6\n",
      "status : 1 47.4\n",
      "status : 0 52.92\n",
      "status : 0 53.1\n",
      "status : 0 54.9\n"
     ]
    }
   ],
   "source": [
    "b = 0\n",
    "total = [0 for i in range(10)]\n",
    "status = [0 for i in range(10)]\n",
    "total[0]=beban[0]\n",
    "total[1]=beban[1]+total[0]\n",
    "total[2]=beban[2]+total[1]\n",
    "total[3]=beban[3]+total[2]\n",
    "total[4]=beban[4]+total[3]\n",
    "total[5]=beban[5]+total[4]\n",
    "total[6]=beban[6]+total[5]\n",
    "total[7]=beban[7]+total[6]\n",
    "total[8]=beban[8]+total[7]\n",
    "total[9]=beban[9]+total[8]\n",
    "for i in range (jumlah_data):\n",
    "    if(total[i] <= token):\n",
    "        status[i] = 1\n",
    "    elif(total[i] > token):\n",
    "        status[i] = 0\n",
    "for a in range (jumlah_data):\n",
    "    print(\"status :\", status[a], total[a])"
   ]
  },
  {
   "cell_type": "code",
   "execution_count": 80,
   "metadata": {},
   "outputs": [
    {
     "name": "stdout",
     "output_type": "stream",
     "text": [
      "2.6000000000000014\n"
     ]
    }
   ],
   "source": [
    "s_total = 0\n",
    "token1 = token\n",
    "for i in range(10):\n",
    "    s_total = s_total + status[i]\n",
    "perhari = 0\n",
    "for j in range(s_total):\n",
    "    perhari = perhari + beban[j]\n",
    "token1 = token1 - perhari\n",
    "print(token1)"
   ]
  },
  {
   "cell_type": "code",
   "execution_count": 81,
   "metadata": {},
   "outputs": [],
   "source": [
    "data = {\n",
    "    \"status_p1\": status[0],\n",
    "    \"status_p2\": status[1],\n",
    "    \"status_p3\": status[2],\n",
    "    \"status_p4\": status[3],\n",
    "    \"status_p5\": status[4],\n",
    "    \"status_p6\": status[5],\n",
    "    \"status_p7\": status[6],\n",
    "    \"status_p8\": status[7],\n",
    "    \"status_p9\": status[8],\n",
    "    \"status_p10\": status[9],\n",
    "    \"token\": token1\n",
    "}\n",
    "antares.setAccessKey('f0a8c253151082fa:a32e0b8df59ac9d6')\n",
    "antares.send(data, 'power_management', 'token')\n",
    "for x in range(jumlah_data):\n",
    "        connection = mysql.connector.connect(host='localhost', database='ta', user='root',password='')\n",
    "        cursor = connection.cursor()\n",
    "        sql_update = \"UPDATE status SET status =  %s WHERE id_status = %s\"\n",
    "        inputData = (status[x], x+1)\n",
    "        cursor.execute(sql_update, inputData)\n",
    "        connection.commit()"
   ]
  }
 ],
 "metadata": {
  "kernelspec": {
   "display_name": "Python 3",
   "language": "python",
   "name": "python3"
  },
  "language_info": {
   "codemirror_mode": {
    "name": "ipython",
    "version": 3
   },
   "file_extension": ".py",
   "mimetype": "text/x-python",
   "name": "python",
   "nbconvert_exporter": "python",
   "pygments_lexer": "ipython3",
   "version": "3.7.9"
  }
 },
 "nbformat": 4,
 "nbformat_minor": 4
}
