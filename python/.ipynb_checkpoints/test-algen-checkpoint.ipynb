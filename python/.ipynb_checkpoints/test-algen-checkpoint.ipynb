{
 "cells": [
  {
   "cell_type": "code",
   "execution_count": 2,
   "metadata": {},
   "outputs": [],
   "source": [
    "#Kanpsack Problem\n",
    "#https://medium.com/koderunners/genetic-algorithm-part-3-knapsack-problem-b59035ddd1d6\n",
    "\n",
    "import numpy as np\n",
    "import pandas as pd\n",
    "import random as rd\n",
    "from random import randint\n",
    "import matplotlib.pyplot as plt"
   ]
  },
  {
   "cell_type": "code",
   "execution_count": 3,
   "metadata": {},
   "outputs": [
    {
     "name": "stdout",
     "output_type": "stream",
     "text": [
      "The list is as follows:\n",
      "Item No.   Weight   Value\n",
      "1          9         550\n",
      "\n",
      "2          3         481\n",
      "\n",
      "3          5         497\n",
      "\n",
      "4          4         32\n",
      "\n",
      "5          12         583\n",
      "\n",
      "6          8         500\n",
      "\n",
      "7          10         144\n",
      "\n",
      "8          11         472\n",
      "\n",
      "9          9         389\n",
      "\n",
      "10          2         561\n",
      "\n"
     ]
    }
   ],
   "source": [
    "item_number = np.arange(1,11)\n",
    "weight = np.random.randint(1, 15, size = 10)\n",
    "value = np.random.randint(10, 750, size = 10)\n",
    "knapsack_threshold = 35    #Maximum weight that the bag of thief can hold \n",
    "print('The list is as follows:')\n",
    "print('Item No.   Weight   Value')\n",
    "for i in range(item_number.shape[0]):\n",
    "    print('{0}          {1}         {2}\\n'.format(item_number[i], weight[i], value[i]))"
   ]
  },
  {
   "cell_type": "code",
   "execution_count": 4,
   "metadata": {},
   "outputs": [
    {
     "name": "stdout",
     "output_type": "stream",
     "text": [
      "Population size = (8, 10)\n",
      "Initial population: \n",
      "[[0 1 1 1 0 0 1 1 0 0]\n",
      " [1 1 0 0 1 1 1 0 1 1]\n",
      " [1 0 1 1 1 1 1 1 1 1]\n",
      " [1 0 0 1 1 0 0 1 0 1]\n",
      " [1 0 1 0 1 1 1 1 0 1]\n",
      " [1 1 1 0 0 1 0 0 1 1]\n",
      " [1 0 1 1 0 1 0 0 0 0]\n",
      " [0 1 0 0 1 1 0 0 0 1]]\n"
     ]
    }
   ],
   "source": [
    "solutions_per_pop = 8\n",
    "pop_size = (solutions_per_pop, item_number.shape[0])\n",
    "print('Population size = {}'.format(pop_size))\n",
    "initial_population = np.random.randint(2, size = pop_size)\n",
    "initial_population = initial_population.astype(int)\n",
    "num_generations = 50\n",
    "print('Initial population: \\n{}'.format(initial_population))"
   ]
  },
  {
   "cell_type": "code",
   "execution_count": 5,
   "metadata": {},
   "outputs": [],
   "source": [
    "def cal_fitness(weight, value, population, threshold):\n",
    "    fitness = np.empty(population.shape[0])\n",
    "    for i in range(population.shape[0]):\n",
    "        S1 = np.sum(population[i] * value)\n",
    "        S2 = np.sum(population[i] * weight)\n",
    "        if S2 <= threshold:\n",
    "            fitness[i] = S1\n",
    "        else :\n",
    "            fitness[i] = 0 \n",
    "    return fitness.astype(int)        "
   ]
  },
  {
   "cell_type": "code",
   "execution_count": 6,
   "metadata": {},
   "outputs": [
    {
     "ename": "NameError",
     "evalue": "name 'daya' is not defined",
     "output_type": "error",
     "traceback": [
      "\u001b[1;31m---------------------------------------------------------------------------\u001b[0m",
      "\u001b[1;31mNameError\u001b[0m                                 Traceback (most recent call last)",
      "\u001b[1;32m<ipython-input-6-8d3aa35c023b>\u001b[0m in \u001b[0;36m<module>\u001b[1;34m\u001b[0m\n\u001b[1;32m----> 1\u001b[1;33m \u001b[0mtes_f\u001b[0m \u001b[1;33m=\u001b[0m \u001b[0mcal_fitness\u001b[0m\u001b[1;33m(\u001b[0m\u001b[0mdaya\u001b[0m\u001b[1;33m,\u001b[0m \u001b[0mvalue\u001b[0m\u001b[1;33m,\u001b[0m \u001b[0minitial_population\u001b[0m\u001b[1;33m,\u001b[0m \u001b[0mknapsack_threshold\u001b[0m\u001b[1;33m)\u001b[0m\u001b[1;33m\u001b[0m\u001b[0m\n\u001b[0m\u001b[0;32m      2\u001b[0m \u001b[0mprint\u001b[0m\u001b[1;33m(\u001b[0m\u001b[1;34m'Fitness: \\n{}\\n'\u001b[0m\u001b[1;33m.\u001b[0m\u001b[0mformat\u001b[0m\u001b[1;33m(\u001b[0m\u001b[0mtes_f\u001b[0m\u001b[1;33m)\u001b[0m\u001b[1;33m)\u001b[0m\u001b[1;33m\u001b[0m\u001b[0m\n",
      "\u001b[1;31mNameError\u001b[0m: name 'daya' is not defined"
     ]
    }
   ],
   "source": [
    "tes_f = cal_fitness(weight, value, initial_population, knapsack_threshold)\n",
    "print('Fitness: \\n{}\\n'.format(tes_f))"
   ]
  },
  {
   "cell_type": "code",
   "execution_count": 5,
   "metadata": {},
   "outputs": [],
   "source": [
    "def selection(fitness, num_parents, population):\n",
    "    fitness = list(fitness)\n",
    "    parents = np.empty((num_parents, population.shape[1]))\n",
    "    for i in range(num_parents):\n",
    "        max_fitness_idx = np.where(fitness == np.max(fitness))\n",
    "        parents[i,:] = population[max_fitness_idx[0][0], :]\n",
    "        fitness[max_fitness_idx[0][0]] = -999999\n",
    "    return parents"
   ]
  },
  {
   "cell_type": "code",
   "execution_count": 6,
   "metadata": {},
   "outputs": [],
   "source": [
    "def crossover(parents, num_offsprings):\n",
    "    offsprings = np.empty((num_offsprings, parents.shape[1]))\n",
    "    crossover_point = int(parents.shape[1]/2)\n",
    "    crossover_rate = 0.8\n",
    "    i=0\n",
    "    while (parents.shape[0] < num_offsprings):\n",
    "        parent1_index = i%parents.shape[0]\n",
    "        parent2_index = (i+1)%parents.shape[0]\n",
    "        x = rd.random()\n",
    "        if x > crossover_rate:\n",
    "            continue\n",
    "        parent1_index = i%parents.shape[0]\n",
    "        parent2_index = (i+1)%parents.shape[0]\n",
    "        offsprings[i,0:crossover_point] = parents[parent1_index,0:crossover_point]\n",
    "        offsprings[i,crossover_point:] = parents[parent2_index,crossover_point:]\n",
    "        i=+1\n",
    "    return offsprings    "
   ]
  },
  {
   "cell_type": "code",
   "execution_count": 7,
   "metadata": {},
   "outputs": [],
   "source": [
    "def mutation(offsprings):\n",
    "    mutants = np.empty((offsprings.shape))\n",
    "    mutation_rate = 0.4\n",
    "    for i in range(mutants.shape[0]):\n",
    "        random_value = rd.random()\n",
    "        mutants[i,:] = offsprings[i,:]\n",
    "        if random_value > mutation_rate:\n",
    "            continue\n",
    "        int_random_value = randint(0,offsprings.shape[1]-1)    \n",
    "        if mutants[i,int_random_value] == 0 :\n",
    "            mutants[i,int_random_value] = 1\n",
    "        else :\n",
    "            mutants[i,int_random_value] = 0\n",
    "    return mutants   "
   ]
  },
  {
   "cell_type": "code",
   "execution_count": 8,
   "metadata": {},
   "outputs": [],
   "source": [
    "def optimize(weight, value, population, pop_size, num_generations, threshold):\n",
    "    parameters, fitness_history = [], []\n",
    "    num_parents = int(pop_size[0]/2)\n",
    "    num_offsprings = pop_size[0] - num_parents \n",
    "    for i in range(num_generations):\n",
    "        fitness = cal_fitness(weight, value, population, threshold)\n",
    "        fitness_history.append(fitness)\n",
    "        parents = selection(fitness, num_parents, population)\n",
    "        offsprings = crossover(parents, num_offsprings)\n",
    "        mutants = mutation(offsprings)\n",
    "        population[0:parents.shape[0], :] = parents\n",
    "        population[parents.shape[0]:, :] = mutants\n",
    "        \n",
    "    print('Last generation: \\n{}\\n'.format(population)) \n",
    "    fitness_last_gen = cal_fitness(weight, value, population, threshold)      \n",
    "    print('Fitness of the last generation: \\n{}\\n'.format(fitness_last_gen))\n",
    "    max_fitness = np.where(fitness_last_gen == np.max(fitness_last_gen))\n",
    "    parameters.append(population[max_fitness[0][0],:])\n",
    "    return parameters, fitness_history"
   ]
  },
  {
   "cell_type": "code",
   "execution_count": 9,
   "metadata": {},
   "outputs": [
    {
     "name": "stdout",
     "output_type": "stream",
     "text": [
      "Last generation: \n",
      "[[0 1 1 1 1 0 0 1 1 0]\n",
      " [0 1 1 1 1 0 0 1 1 0]\n",
      " [0 1 1 1 1 0 0 1 1 0]\n",
      " [0 1 1 1 1 0 0 1 1 0]\n",
      " [0 1 1 1 1 0 0 1 1 0]\n",
      " [0 1 1 1 1 0 0 1 1 0]\n",
      " [0 1 1 1 1 0 0 1 1 0]\n",
      " [0 1 1 1 1 0 0 1 1 0]]\n",
      "\n",
      "Fitness of the last generation: \n",
      "[2758 2758 2758 2758 2758 2758 2758 2758]\n",
      "\n",
      "The optimized parameters for the given inputs are: \n",
      "[array([0, 1, 1, 1, 1, 0, 0, 1, 1, 0])]\n",
      "\n",
      "Selected items that will maximize the knapsack without breaking it:\n",
      "2\n",
      "\n",
      "3\n",
      "\n",
      "4\n",
      "\n",
      "5\n",
      "\n",
      "8\n",
      "\n",
      "9\n",
      "\n"
     ]
    }
   ],
   "source": [
    "parameters, fitness_history = optimize(weight, value, initial_population, pop_size, num_generations, knapsack_threshold)\n",
    "print('The optimized parameters for the given inputs are: \\n{}'.format(parameters))\n",
    "selected_items = item_number * parameters\n",
    "print('\\nSelected items that will maximize the knapsack without breaking it:')\n",
    "for i in range(selected_items.shape[1]):\n",
    "  if selected_items[0][i] != 0:\n",
    "     print('{}\\n'.format(selected_items[0][i]))"
   ]
  },
  {
   "cell_type": "code",
   "execution_count": 10,
   "metadata": {},
   "outputs": [
    {
     "name": "stdout",
     "output_type": "stream",
     "text": [
      "Last generation: \n",
      "[[0 1 1 1 1 0 0 1 1 0]\n",
      " [0 1 1 1 1 0 0 1 1 0]\n",
      " [0 1 1 1 1 0 0 1 1 0]\n",
      " [0 1 1 1 1 0 0 1 1 0]\n",
      " [0 1 1 0 1 0 0 1 1 0]\n",
      " [0 1 1 1 1 0 0 1 1 0]\n",
      " [0 1 1 1 1 0 0 1 1 0]\n",
      " [0 1 1 1 1 0 0 1 1 1]]\n",
      "\n",
      "Fitness of the last generation: \n",
      "[2758 2758 2758 2758 2164 2758 2758    0]\n",
      "\n",
      "The optimized parameters for the given inputs are: \n",
      "[array([0, 1, 1, 1, 1, 0, 0, 1, 1, 0])]\n",
      "\n",
      "Selected items that will maximize the knapsack without breaking it:\n",
      "2\n",
      "\n",
      "3\n",
      "\n",
      "4\n",
      "\n",
      "5\n",
      "\n",
      "8\n",
      "\n",
      "9\n",
      "\n"
     ]
    }
   ],
   "source": [
    "parameters, fitness_history = optimize(weight, value, initial_population, pop_size, num_generations, knapsack_threshold)\n",
    "print('The optimized parameters for the given inputs are: \\n{}'.format(parameters))\n",
    "selected_items = item_number * parameters\n",
    "print('\\nSelected items that will maximize the knapsack without breaking it:')\n",
    "for i in range(selected_items.shape[1]):\n",
    "  if selected_items[0][i] != 0:\n",
    "     print('{}\\n'.format(selected_items[0][i]))"
   ]
  },
  {
   "cell_type": "code",
   "execution_count": 11,
   "metadata": {},
   "outputs": [
    {
     "data": {
      "image/png": "[encoded data removed]",
      "text/plain": [
       "<Figure size 432x288 with 1 Axes>"
      ]
     },
     "metadata": {
      "needs_background": "light"
     },
     "output_type": "display_data"
    },
    {
     "name": "stdout",
     "output_type": "stream",
     "text": [
      "(50, 8)\n"
     ]
    }
   ],
   "source": [
    "fitness_history_mean = [np.mean(fitness) for fitness in fitness_history]\n",
    "fitness_history_max = [np.max(fitness) for fitness in fitness_history]\n",
    "plt.plot(list(range(num_generations)), fitness_history_mean, label = 'Mean Fitness')\n",
    "plt.plot(list(range(num_generations)), fitness_history_max, label = 'Max Fitness')\n",
    "plt.legend()\n",
    "plt.title('Fitness through the generations')\n",
    "plt.xlabel('Generations')\n",
    "plt.ylabel('Fitness')\n",
    "plt.show()\n",
    "print(np.asarray(fitness_history).shape)\n"
   ]
  },
  {
   "cell_type": "code",
   "execution_count": null,
   "metadata": {},
   "outputs": [],
   "source": []
  }
 ],
 "metadata": {
  "kernelspec": {
   "display_name": "Python 3",
   "language": "python",
   "name": "python3"
  },
  "language_info": {
   "codemirror_mode": {
    "name": "ipython",
    "version": 3
   },
   "file_extension": ".py",
   "mimetype": "text/x-python",
   "name": "python",
   "nbconvert_exporter": "python",
   "pygments_lexer": "ipython3",
   "version": "3.6.5"
  }
 },
 "nbformat": 4,
 "nbformat_minor": 4
}
