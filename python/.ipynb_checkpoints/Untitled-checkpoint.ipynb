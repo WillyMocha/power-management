{
 "cells": [
  {
   "cell_type": "code",
   "execution_count": 5,
   "metadata": {},
   "outputs": [],
   "source": [
    "import mysql.connector\n",
    "from antares_http import antares\n",
    "from mysql.connector import Error"
   ]
  },
  {
   "cell_type": "code",
   "execution_count": 19,
   "metadata": {},
   "outputs": [
    {
     "name": "stdout",
     "output_type": "stream",
     "text": [
      "4\n",
      "1\n",
      "2\n",
      "14 \n",
      "1\n",
      "5\n",
      " 14\n",
      "1\n",
      "15\n",
      " 17\n"
     ]
    },
    {
     "ename": "IndexError",
     "evalue": "list index out of range",
     "output_type": "error",
     "traceback": [
      "\u001b[1;31m---------------------------------------------------------------------------\u001b[0m",
      "\u001b[1;31mIndexError\u001b[0m                                Traceback (most recent call last)",
      "\u001b[1;32m<ipython-input-19-262fc7e2c72d>\u001b[0m in \u001b[0;36m<module>\u001b[1;34m\u001b[0m\n\u001b[0;32m     11\u001b[0m     \u001b[0mno\u001b[0m\u001b[1;33m=\u001b[0m\u001b[0mno\u001b[0m\u001b[1;33m+\u001b[0m\u001b[1;36m1\u001b[0m\u001b[1;33m\u001b[0m\u001b[0m\n\u001b[0;32m     12\u001b[0m     data = {\n\u001b[1;32m---> 13\u001b[1;33m         \u001b[1;34m\"Device\"\u001b[0m\u001b[1;33m:\u001b[0m \u001b[0mjam\u001b[0m\u001b[1;33m[\u001b[0m\u001b[0mno\u001b[0m\u001b[1;33m]\u001b[0m\u001b[1;33m\u001b[0m\u001b[0m\n\u001b[0m\u001b[0;32m     14\u001b[0m     }\n\u001b[0;32m     15\u001b[0m \u001b[1;33m\u001b[0m\u001b[0m\n",
      "\u001b[1;31mIndexError\u001b[0m: list index out of range"
     ]
    }
   ],
   "source": [
    "connection = mysql.connector.connect(host='localhost', database='ta', user='root', password='')\n",
    "sql_select_Query = \"select jam from rekomendasi\"\n",
    "cursor = connection.cursor()\n",
    "cursor.execute(sql_select_Query)\n",
    "records = cursor.fetchall()\n",
    "jam = [0 for i in range(10)]\n",
    "no = 0\n",
    "for row in records:\n",
    "    jam[no] = row[0]\n",
    "    print(jam[no])\n",
    "    no=no+1\n",
    "data = {\n",
    "   \"Device_1\": jam[0],\n",
    "    \"Device_2\": jam[1],\n",
    "    \"Device_3\": jam[2],\n",
    "    \"Device_4\": jam[3],\n",
    "    \"Device_5\": jam[4],\n",
    "    \"Device_6\": jam[5],\n",
    "    \"Device_7\": jam[6],\n",
    "    \"Device_8\": jam[7],\n",
    "    \"Device_9\": jam[8],\n",
    "    \"Device_10\": jam[9],\n",
    "}\n",
    "    \n",
    "antares.setAccessKey('2e260a2476541f43:96a008f8368d4875')\n",
    "antares.send(data, 'PowerManagement', 'rekomendasi')"
   ]
  },
  {
   "cell_type": "code",
   "execution_count": null,
   "metadata": {},
   "outputs": [],
   "source": []
  }
 ],
 "metadata": {
  "kernelspec": {
   "display_name": "Python 3",
   "language": "python",
   "name": "python3"
  },
  "language_info": {
   "codemirror_mode": {
    "name": "ipython",
    "version": 3
   },
   "file_extension": ".py",
   "mimetype": "text/x-python",
   "name": "python",
   "nbconvert_exporter": "python",
   "pygments_lexer": "ipython3",
   "version": "3.6.5"
  }
 },
 "nbformat": 4,
 "nbformat_minor": 4
}
