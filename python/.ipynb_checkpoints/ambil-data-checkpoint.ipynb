{
 "cells": [
  {
   "cell_type": "code",
   "execution_count": 3,
   "metadata": {},
   "outputs": [
    {
     "name": "stdout",
     "output_type": "stream",
     "text": [
      "Total Baris Pada Tabel Device:  4\n",
      "\n",
      "Device Record\n",
      "ID =  9\n",
      "Username =  user\n",
      "Device  =  Komputer\n",
      "Daya  =  200\n",
      "Jumlah  =  5\n",
      "Prioritas  =  1\n",
      "Total Daya  =  1000 \n",
      "\n",
      "ID =  10\n",
      "Username =  user\n",
      "Device  =  AC Daikin Urusara 7\n",
      "Daya  =  430\n",
      "Jumlah  =  2\n",
      "Prioritas  =  2\n",
      "Total Daya  =  860 \n",
      "\n",
      "ID =  11\n",
      "Username =  user\n",
      "Device  =  mesin fotocopy\n",
      "Daya  =  150\n",
      "Jumlah  =  10\n",
      "Prioritas  =  3\n",
      "Total Daya  =  1500 \n",
      "\n",
      "ID =  13\n",
      "Username =  user\n",
      "Device  =  sound sytem\n",
      "Daya  =  1000\n",
      "Jumlah  =  3\n",
      "Prioritas  =  5\n",
      "Total Daya  =  3000 \n",
      "\n",
      "MySQL connection is closed\n"
     ]
    }
   ],
   "source": [
    "#Koneksi Database\n",
    "import mysql.connector\n",
    "from mysql.connector import Error\n",
    "\n",
    "try:\n",
    "    connection = mysql.connector.connect(\n",
    "        host='localhost',\n",
    "        database='ta',\n",
    "        user='root',\n",
    "        password='')\n",
    "\n",
    "    sql_device = \"select * from device\"\n",
    "    cursor = connection.cursor()\n",
    "    cursor.execute(sql_device)\n",
    "    records = cursor.fetchall()\n",
    "    print(\"Total Baris Pada Tabel Device: \", cursor.rowcount)\n",
    "\n",
    "    print(\"\\nDevice Record\")\n",
    "    for row in records:\n",
    "        print(\"ID = \", row[0], )\n",
    "        print(\"Username = \", row[1])\n",
    "        print(\"Device  = \", row[2])\n",
    "        print(\"Daya  = \", row[3])\n",
    "        print(\"Jumlah  = \", row[4])\n",
    "        print(\"Prioritas  = \", row[5])\n",
    "        print(\"Total Daya  = \", row[6], \"\\n\")\n",
    "\n",
    "except Error as e:\n",
    "    print(\"Error reading data from MySQL table\", e)\n",
    "finally:\n",
    "    if (connection.is_connected()):\n",
    "        connection.close()\n",
    "        cursor.close()\n",
    "        print(\"MySQL connection is closed\")"
   ]
  },
  {
   "cell_type": "code",
   "execution_count": null,
   "metadata": {},
   "outputs": [],
   "source": []
  }
 ],
 "metadata": {
  "kernelspec": {
   "display_name": "Python 3",
   "language": "python",
   "name": "python3"
  },
  "language_info": {
   "codemirror_mode": {
    "name": "ipython",
    "version": 3
   },
   "file_extension": ".py",
   "mimetype": "text/x-python",
   "name": "python",
   "nbconvert_exporter": "python",
   "pygments_lexer": "ipython3",
   "version": "3.6.5"
  }
 },
 "nbformat": 4,
 "nbformat_minor": 4
}
