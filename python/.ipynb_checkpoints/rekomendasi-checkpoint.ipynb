{
 "cells": [
  {
   "cell_type": "code",
   "execution_count": 41,
   "metadata": {},
   "outputs": [],
   "source": [
    "import numpy as np\n",
    "import pandas as pd\n",
    "import random as rd\n",
    "from random import randint\n",
    "import matplotlib.pyplot as plt\n",
    "import mysql.connector\n",
    "from mysql.connector import Error\n",
    "import functools"
   ]
  },
  {
   "cell_type": "code",
   "execution_count": 42,
   "metadata": {},
   "outputs": [
    {
     "name": "stdout",
     "output_type": "stream",
     "text": [
      "Total Baris Pada Tabel Device:  10\n",
      "\n",
      "Device Record\n",
      "ID          Device          Daya          Token          Hari          Value\n",
      "17          Server          0.9          340.7666          15          1000\n",
      "\n",
      "9          Komputer          1.0          340.7666          15          900\n",
      "\n",
      "11          Mesin Fotocopy          1.2          340.7666          15          800\n",
      "\n",
      "14          Printer          0.05          340.7666          15          700\n",
      "\n",
      "23          Pompa Air          0.125          340.7666          15          600\n",
      "\n",
      "18          AC          0.6          340.7666          15          500\n",
      "\n",
      "19          Amplifier          0.23          340.7666          15          400\n",
      "\n",
      "13          Speaker          0.09          340.7666          15          300\n",
      "\n",
      "15          Lampu          0.15          340.7666          15          200\n",
      "\n",
      "16          Dispenser          0.3          340.7666          15          100\n",
      "\n",
      "Daya Listrik / Hari =  23 kWh\n",
      "\n",
      "Population size = (10, 10)\n",
      "Initial population: \n",
      "[[12 20 20  4 19 21 11  9 23 22]\n",
      " [10 19 18 18  9 18 12 14 19 20]\n",
      " [ 8 16  6 19  3  8  9 12 10  6]\n",
      " [16  2  4 15 23 18 16  7  5  2]\n",
      " [21  9  4 23  2 22  2 13  3  2]\n",
      " [23  1 13 19 11 18  2 19  1  5]\n",
      " [17 23 14 13 23 16  9 20 15  6]\n",
      " [22  3  4  7  4 22  6 18 12  9]\n",
      " [21 14  5  5  9 10  5 15  8  5]\n",
      " [10  3  5  2 18 20  8 14 15 19]]\n",
      "MySQL connection is closed\n"
     ]
    }
   ],
   "source": [
    "try:\n",
    "    connection = mysql.connector.connect(\n",
    "        host='localhost',\n",
    "        database='ta',\n",
    "        user='root',\n",
    "        password='')\n",
    "\n",
    "    sql_device = \"SELECT device.id_device, device.nama, device.total_daya, token.kwatt, token.hari, device.nilai FROM device INNER JOIN token ON device.username=token.username order by prioritas asc\"\n",
    "    cursor = connection.cursor()\n",
    "    cursor.execute(sql_device)\n",
    "    records = cursor.fetchall()\n",
    "    print(\"Total Baris Pada Tabel Device: \", cursor.rowcount)\n",
    "    \n",
    "    #Inisialisasi\n",
    "    #Threshold / Batas Daya\n",
    "    #sisa_kwh = 340.7665885 / 30\n",
    "    #print (sisa_kwh)\n",
    "    print(\"\\nDevice Record\")\n",
    "    \n",
    "    daya = [0 for i in range(10)]\n",
    "    value = [0 for i in range(10)]\n",
    "    no = 0\n",
    "    #Tabel Data\n",
    "    print('ID          Device          Daya          Token          Hari          Value')\n",
    "    for row in records:\n",
    "        idd = row[0]\n",
    "        device = row[1]\n",
    "        daya = row[2]\n",
    "        token = row[3]\n",
    "        hari = row[4]\n",
    "        value = row[5]\n",
    "        total_beban = np.sum(row[2])\n",
    "        print('{0}          {1}          {2}          {3}          {4}          {5}\\n'.format(idd, device, daya, token, hari, value))\n",
    "        \n",
    "        #Kromosom\n",
    "        solution_per_pop = cursor.rowcount\n",
    "        #populasi\n",
    "        pop_size = (solution_per_pop, cursor.rowcount)\n",
    "    \n",
    "    #Threshold / Batas Daya\n",
    "    daily_token = round(token / hari)\n",
    "    #daily_token = 130\n",
    "    print ('Daya Listrik / Hari = ', daily_token , 'kWh')\n",
    "    \n",
    "    #Inisialisasi Populasi\n",
    "    print('\\nPopulation size = {}'.format(pop_size))\n",
    "    initial_population = np.random.randint(1,24, size = pop_size)\n",
    "    #ip = np.empty(initial_population.shape[0])\n",
    "    print('Initial population: \\n{}'.format(initial_population))\n",
    "    #for i in range(initial_population.shape[0]):\n",
    "    #    w = np.sum(initial_population * daya)\n",
    "    #    #print('weight: \\n{}\\n'.format(w))\n",
    "    #    if w <= daily_token:\n",
    "    #        ip = initial_population\n",
    "    #    else :\n",
    "    #        ip[i] = 0 \n",
    "    #ip = ip.astype(int)\n",
    "    #ipopulation = initial_population(solution_per_pop, daily_token)\n",
    "    num_generations = 50\n",
    "    #print('Optimized Initial population: \\n{}'.format(initial_population))\n",
    "\n",
    "except Error as e:\n",
    "    print(\"Error reading data from MySQL table\", e)\n",
    "finally:\n",
    "    if (connection.is_connected()):\n",
    "        connection.close()\n",
    "        cursor.close()\n",
    "        print(\"MySQL connection is closed\")"
   ]
  },
  {
   "cell_type": "code",
   "execution_count": 43,
   "metadata": {},
   "outputs": [],
   "source": [
    "#Evaluasi Kromosom\n",
    "def cal_fitness(weight, value, population, threshold):\n",
    "    fitness = np.empty(population.shape[0])\n",
    "    for i in range(population.shape[0]):\n",
    "        #Jumlahkan isi (gen) nilai / value dari prioritas per kromosom\n",
    "        S1 = np.sum(population[i] * value)\n",
    "        #print('value: \\n{}\\n'.format(S1))\n",
    "        #Jumlahkan isi (gen) berat (total daya) per kromosom\n",
    "        S2 = np.sum(population[i] * weight)\n",
    "        #print('weight: \\n{}\\n'.format(S2))\n",
    "        #Syarat jika daya <= sisa kWh, maka prioritas jadi nilai fitness\n",
    "        if S2 <= threshold:\n",
    "            fitness[i] = S1\n",
    "        else :\n",
    "            fitness[i] = 0 \n",
    "    return fitness.astype(int)   "
   ]
  },
  {
   "cell_type": "code",
   "execution_count": 44,
   "metadata": {},
   "outputs": [
    {
     "name": "stdout",
     "output_type": "stream",
     "text": [
      "Fitness: \n",
      "[0 0 0 0 0 0 0 0 0 0]\n",
      "\n"
     ]
    }
   ],
   "source": [
    "tes_f = cal_fitness(daya, value, initial_population, daily_token)\n",
    "print('Fitness: \\n{}\\n'.format(tes_f))"
   ]
  },
  {
   "cell_type": "code",
   "execution_count": 45,
   "metadata": {},
   "outputs": [],
   "source": [
    "#Seleksi Kromosom (Tournament Selection)\n",
    "def selection(fitness, num_parents, population):\n",
    "    #Memanggil nilai fitness\n",
    "    #List, https://stackoverflow.com/questions/30515300/python-how-does-list0-0-differ-from-0-0\n",
    "    fitness = list(fitness)\n",
    "    #Deklarasi variabel parents\n",
    "    #numpy.empty(shape, dtype = float, order = 'C') : Return a new array of given shape and type, with random values.\n",
    "    parents = np.empty((num_parents, population.shape[1]))\n",
    "    #num_parents = populasi/2, sama dengan dipasangkan\n",
    "    for i in range(num_parents):\n",
    "        #Mencari kromosom dengan nilai fitness terbersar\n",
    "        #np.max, https://stackoverflow.com/questions/33569668/numpy-max-vs-amax-vs-maximum\n",
    "        max_fitness_idx = np.where(fitness == np.max(fitness))\n",
    "        parents[i,:] = population[max_fitness_idx[0][0], :]\n",
    "        fitness[max_fitness_idx[0][0]] = -999999\n",
    "    return parents"
   ]
  },
  {
   "cell_type": "code",
   "execution_count": 46,
   "metadata": {},
   "outputs": [
    {
     "name": "stdout",
     "output_type": "stream",
     "text": [
      "Parents: \n",
      "[[12. 20. 20.  4. 19. 21. 11.  9. 23. 22.]\n",
      " [10. 19. 18. 18.  9. 18. 12. 14. 19. 20.]\n",
      " [ 8. 16.  6. 19.  3.  8.  9. 12. 10.  6.]\n",
      " [16.  2.  4. 15. 23. 18. 16.  7.  5.  2.]\n",
      " [21.  9.  4. 23.  2. 22.  2. 13.  3.  2.]]\n",
      "\n"
     ]
    }
   ],
   "source": [
    "num_parents= int(pop_size[0]/2)\n",
    "tes_s = selection(tes_f, num_parents, initial_population)\n",
    "print('Parents: \\n{}\\n'.format(tes_s))"
   ]
  },
  {
   "cell_type": "code",
   "execution_count": 47,
   "metadata": {},
   "outputs": [],
   "source": [
    "#One-Point Crossover\n",
    "def crossover(parents, num_offsprings):\n",
    "    #Inisialisasi variabel kromosom hasil crossover\n",
    "    offsprings = np.empty((num_offsprings, parents.shape[1]))\n",
    "    #I\n",
    "    crossover_point = int(parents.shape[1]/2)\n",
    "    crossover_rate = 0.8\n",
    "    i=0\n",
    "    while (parents.shape[0] < num_offsprings):\n",
    "        parent1_index = i%parents.shape[0]\n",
    "        parent2_index = (i+1)%parents.shape[0]\n",
    "        x = rd.random()\n",
    "        if x > crossover_rate:\n",
    "            continue\n",
    "        parent1_index = i%parents.shape[0]\n",
    "        parent2_index = (i+1)%parents.shape[0]\n",
    "        offsprings[i,0:crossover_point] = parents[parent1_index,0:crossover_point]\n",
    "        offsprings[i,crossover_point:] = parents[parent2_index,crossover_point:]\n",
    "        i=+1\n",
    "    return offsprings    "
   ]
  },
  {
   "cell_type": "code",
   "execution_count": 48,
   "metadata": {},
   "outputs": [
    {
     "name": "stdout",
     "output_type": "stream",
     "text": [
      "Crossover: \n",
      "[[11.  1. 20.  1. 19.  6.  9.  9.  9. 18.]\n",
      " [ 1. 23. 21. 15. 15. 14.  7. 11. 16. 16.]\n",
      " [ 4. 15. 22.  3.  3.  2. 15. 11.  6. 11.]\n",
      " [21.  2. 12. 17.  4.  9. 23. 11. 19.  1.]\n",
      " [ 3. 16.  4.  2. 18.  1. 12. 23. 22. 11.]]\n",
      "\n"
     ]
    }
   ],
   "source": [
    "num_offsprings = pop_size[0] - num_parents\n",
    "parents = tes_s\n",
    "tes_c = crossover(parents, num_offsprings)\n",
    "print('Crossover: \\n{}\\n'.format(tes_c))"
   ]
  },
  {
   "cell_type": "code",
   "execution_count": 49,
   "metadata": {},
   "outputs": [],
   "source": [
    "def mutation(offsprings):\n",
    "    mutants = np.empty((offsprings.shape))\n",
    "    mutation_rate = 0.4\n",
    "    for i in range(mutants.shape[0]):\n",
    "        random_value = rd.random()\n",
    "        mutants[i,:] = offsprings[i,:]\n",
    "        if random_value > mutation_rate:\n",
    "            continue\n",
    "        int_random_value = randint(0,offsprings.shape[1]-1)    \n",
    "        if mutants[i,int_random_value] == 0 :\n",
    "            mutants[i,int_random_value] = 1\n",
    "        else :\n",
    "            mutants[i,int_random_value] = 0\n",
    "    return mutants"
   ]
  },
  {
   "cell_type": "code",
   "execution_count": 50,
   "metadata": {},
   "outputs": [
    {
     "name": "stdout",
     "output_type": "stream",
     "text": [
      "Mutation: \n",
      "[[11.  1. 20.  1. 19.  6.  9.  9.  9. 18.]\n",
      " [ 1. 23. 21. 15. 15. 14.  7. 11. 16. 16.]\n",
      " [ 4. 15. 22.  3.  3.  2. 15. 11.  6. 11.]\n",
      " [21.  2. 12. 17.  4.  9. 23. 11.  0.  1.]\n",
      " [ 3. 16.  4.  2. 18.  0. 12. 23. 22. 11.]]\n",
      "\n"
     ]
    }
   ],
   "source": [
    "offsprings = tes_c\n",
    "tes_c = mutation(offsprings)\n",
    "print('Mutation: \\n{}\\n'.format(tes_c))"
   ]
  },
  {
   "cell_type": "code",
   "execution_count": 51,
   "metadata": {},
   "outputs": [],
   "source": [
    "def optimize(weight, value, population, pop_size, num_generations, threshold):\n",
    "    parameters, fitness_history = [], []\n",
    "    num_parents = int(pop_size[0]/2)\n",
    "    num_offsprings = pop_size[0] - num_parents \n",
    "    for i in range(num_generations):\n",
    "        fitness = cal_fitness(weight, value, population, threshold)\n",
    "        fitness_history.append(fitness)\n",
    "        parents = selection(fitness, num_parents, population)\n",
    "        offsprings = crossover(parents, num_offsprings)\n",
    "        mutants = mutation(offsprings)\n",
    "        population[0:parents.shape[0], :] = parents\n",
    "        population[parents.shape[0]:, :] = mutants\n",
    "        \n",
    "    print('Last generation: \\n{}\\n'.format(population))\n",
    "    for i in range(population.shape[0]):\n",
    "        lw = np.sum(population[i] * weight)\n",
    "    print('Last Weight: \\n{}\\n'.format(lw))\n",
    "    fitness_last_gen = cal_fitness(weight, value, population, threshold)      \n",
    "    print('Fitness of the last generation: \\n{}\\n'.format(fitness_last_gen))\n",
    "    max_fitness = np.where(fitness_last_gen == np.max(fitness_last_gen))\n",
    "    parameters.append(population[max_fitness[0][0],:])\n",
    "    return parameters, fitness_history"
   ]
  },
  {
   "cell_type": "code",
   "execution_count": 52,
   "metadata": {},
   "outputs": [
    {
     "name": "stdout",
     "output_type": "stream",
     "text": [
      "Last generation: \n",
      "[[12 20 20  4 19 21 11  9 23 22]\n",
      " [10 19 18 18  9 18 12 14 19 20]\n",
      " [ 8 16  6 19  3  8  9 12 10  6]\n",
      " [16  2  4 15 23 18 16  7  5  2]\n",
      " [21  9  4 23  2 22  2 13  3  2]\n",
      " [12 20 20  4 19 21 11  9 23 22]\n",
      " [10 19 18 18  9 18 12 14 19 20]\n",
      " [ 8 16  6 19  3  8  9 12 10  6]\n",
      " [16  2  4 15 23 18 16  7  5  2]\n",
      " [21  9  4 23  2 22  2 13  3  2]]\n",
      "\n",
      "Last Weight: \n",
      "30.3\n",
      "\n",
      "Fitness of the last generation: \n",
      "[0 0 0 0 0 0 0 0 0 0]\n",
      "\n",
      "The optimized parameters for the given inputs are: \n",
      "[array([12, 20, 20,  4, 19, 21, 11,  9, 23, 22])]\n",
      "Device :  [\n",
      "Device :  1\n",
      "Device :  2\n",
      "Device :   \n",
      "Device :  2\n",
      "Device :  0\n",
      "Device :   \n",
      "Device :  2\n",
      "Device :  0\n",
      "Device :   \n"
     ]
    }
   ],
   "source": [
    "parameters, fitness_history = optimize(daya, value, initial_population, pop_size, num_generations, daily_token)\n",
    "print('The optimized parameters for the given inputs are: \\n{}'.format(parameters))\n",
    "\n",
    "list_jam = [0 for i in range(10)]\n",
    "list_jam = parameters[0]\n",
    "#list_jam.tolist()\n",
    "conv_list = str(list_jam)\n",
    "#val = np.int16()\n",
    "#dev = val.item(list_jam)\n",
    "\n",
    "#dev = [0 for i in range(10)]\n",
    "\n",
    "#for x in range (solution_per_pop):\n",
    "#    dev[x] = list_jam[x]\n",
    "for a in range (solution_per_pop):\n",
    "    print('Device : ', conv_list[a])\n",
    "#dev1 = list_jam[0]\n",
    "#dev2 = list_jam[1]\n",
    "#dev3 = list_jam[2]\n",
    "#dev4 = list_jam[3]\n",
    "#dev5 = list_jam[4]\n",
    "#dev6 = list_jam[5]\n",
    "#dev7 = list_jam[6]\n",
    "#dev8 = list_jam[7]\n",
    "#dev9 = list_jam[8]\n",
    "#dev10 = list_jam[9]\n",
    "#print ('Device 1 =', dev1,\n",
    "#       '\\nDevice 2 =', dev2,\n",
    "#       '\\nDevice 3 =', dev3,\n",
    "#       '\\nDevice 4 =', dev4,\n",
    "#       '\\nDevice 5 =', dev5,\n",
    "#       '\\nDevice 6 =', dev6,\n",
    "#       '\\nDevice 7 =', dev7,\n",
    "#       '\\nDevice 8 =', dev8,\n",
    "#       '\\nDevice 9 =', dev9,\n",
    "#       '\\nDevice 10 =', dev10)\n",
    "\n",
    "#for item, value in enumerate(parameters):\n",
    "#    print(dev, )\n",
    "#range(len(parameters))"
   ]
  },
  {
   "cell_type": "code",
   "execution_count": 53,
   "metadata": {},
   "outputs": [],
   "source": [
    "for z in range (solution_per_pop):\n",
    "    connection = mysql.connector.connect(host='localhost', database='ta', user='root', password='')\n",
    "    cursor = connection.cursor()\n",
    "    sql_update = \"UPDATE rekomendasi SET jam = %s WHERE id_rek = %s\"\n",
    "    input_data = (conv_list[z], z+1)\n",
    "    cursor.execute(sql_update, input_data)\n",
    "    connection.commit()\n",
    "    #print(conv_list)"
   ]
  },
  {
   "cell_type": "code",
   "execution_count": 22,
   "metadata": {},
   "outputs": [
    {
     "data": {
      "image/png": "[encoded data removed]",
      "text/plain": [
       "<Figure size 432x288 with 1 Axes>"
      ]
     },
     "metadata": {
      "needs_background": "light"
     },
     "output_type": "display_data"
    },
    {
     "name": "stdout",
     "output_type": "stream",
     "text": [
      "(50, 10)\n"
     ]
    }
   ],
   "source": [
    "fitness_history_mean = [np.mean(fitness) for fitness in fitness_history]\n",
    "fitness_history_max = [np.max(fitness) for fitness in fitness_history]\n",
    "plt.plot(list(range(num_generations)), fitness_history_mean, label = 'Mean Fitness')\n",
    "plt.plot(list(range(num_generations)), fitness_history_max, label = 'Max Fitness')\n",
    "plt.legend()\n",
    "plt.title('Fitness through the generations')\n",
    "plt.xlabel('Generations')\n",
    "plt.ylabel('Fitness')\n",
    "plt.show()\n",
    "print(np.asarray(fitness_history).shape)"
   ]
  },
  {
   "cell_type": "code",
   "execution_count": null,
   "metadata": {},
   "outputs": [],
   "source": []
  }
 ],
 "metadata": {
  "kernelspec": {
   "display_name": "Python 3",
   "language": "python",
   "name": "python3"
  },
  "language_info": {
   "codemirror_mode": {
    "name": "ipython",
    "version": 3
   },
   "file_extension": ".py",
   "mimetype": "text/x-python",
   "name": "python",
   "nbconvert_exporter": "python",
   "pygments_lexer": "ipython3",
   "version": "3.6.5"
  }
 },
 "nbformat": 4,
 "nbformat_minor": 4
}
