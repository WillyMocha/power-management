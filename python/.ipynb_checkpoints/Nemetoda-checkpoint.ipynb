{
 "cells": [
  {
   "cell_type": "code",
   "execution_count": 1,
   "metadata": {},
   "outputs": [],
   "source": [
    "import numpy as np\n",
    "import pandas as pd\n",
    "import random as rd\n",
    "from random import randint\n",
    "import matplotlib.pyplot as plt\n",
    "import mysql.connector\n",
    "from mysql.connector import Error\n",
    "import functools"
   ]
  },
  {
   "cell_type": "code",
   "execution_count": 18,
   "metadata": {},
   "outputs": [],
   "source": [
    "def initial_population(n, total):\n",
    "    \"\"\"Return a randomly chosen list of n positive integers summing to total.\n",
    "    Each such list is equally likely to occur.\"\"\"\n",
    "    \n",
    "    #awal = np.random.randint(1,24, size = pop_size)\n",
    "    #awal.astype(int)\n",
    "    optimal = np.empty(pop_size)\n",
    "    \n",
    "    for i in range(solution_per_pop):\n",
    "        #dividers = sorted(rd.sample(range(1, total), n - 1))\n",
    "        dividers = sorted(rd.sample(range(1, total), n - 1))\n",
    "        optimal[i] = [a - b for a, b in zip(dividers + [total], [0] + dividers)]\n",
    "    #return [a - b for a, b in zip(dividers + [total], [0] + dividers)]\n",
    "    return optimal"
   ]
  },
  {
   "cell_type": "code",
   "execution_count": 3,
   "metadata": {},
   "outputs": [],
   "source": [
    "#tes_o = initial_population(solution_per_pop, daily_token)\n",
    "#print('Optimized: \\n{}\\n'.format(tes_o))"
   ]
  },
  {
   "cell_type": "code",
   "execution_count": 19,
   "metadata": {},
   "outputs": [
    {
     "name": "stdout",
     "output_type": "stream",
     "text": [
      "Total Baris Pada Tabel Device:  10\n",
      "\n",
      "Device Record\n",
      "ID          Device          Daya          Token          Hari          Value\n",
      "9          Komputer          1.0          681.53318          15          900\n",
      "\n",
      "11          Mesin Fotocopy          1.2          681.53318          15          800\n",
      "\n",
      "13          Speaker          0.09          681.53318          15          300\n",
      "\n",
      "14          Printer          0.05          681.53318          15          700\n",
      "\n",
      "15          Lampu          0.15          681.53318          15          200\n",
      "\n",
      "16          Dispenser          0.3          681.53318          15          100\n",
      "\n",
      "17          Server          0.9          681.53318          15          1000\n",
      "\n",
      "18          AC          0.6          681.53318          15          500\n",
      "\n",
      "19          Amplifier          0.23          681.53318          15          400\n",
      "\n",
      "23          Pompa Air          0.125          681.53318          15          600\n",
      "\n",
      "MySQL connection is closed\n"
     ]
    },
    {
     "ename": "AttributeError",
     "evalue": "'int' object has no attribute 'astype'",
     "output_type": "error",
     "traceback": [
      "\u001b[1;31m---------------------------------------------------------------------------\u001b[0m",
      "\u001b[1;31mAttributeError\u001b[0m                            Traceback (most recent call last)",
      "\u001b[1;32m<ipython-input-19-60bea94d073f>\u001b[0m in \u001b[0;36m<module>\u001b[1;34m\u001b[0m\n\u001b[0;32m     36\u001b[0m     \u001b[1;31m#Threshold / Batas Daya\u001b[0m\u001b[1;33m\u001b[0m\u001b[1;33m\u001b[0m\u001b[0m\n\u001b[0;32m     37\u001b[0m     \u001b[0mdaily_token\u001b[0m \u001b[1;33m=\u001b[0m \u001b[0mround\u001b[0m\u001b[1;33m(\u001b[0m\u001b[0mtoken\u001b[0m \u001b[1;33m/\u001b[0m \u001b[0mhari\u001b[0m\u001b[1;33m)\u001b[0m\u001b[1;33m\u001b[0m\u001b[0m\n\u001b[1;32m---> 38\u001b[1;33m     \u001b[0mdaily_token\u001b[0m\u001b[1;33m.\u001b[0m\u001b[0mastype\u001b[0m\u001b[1;33m(\u001b[0m\u001b[0mint\u001b[0m\u001b[1;33m)\u001b[0m\u001b[1;33m\u001b[0m\u001b[0m\n\u001b[0m\u001b[0;32m     39\u001b[0m     \u001b[1;31m#daily_token = 130\u001b[0m\u001b[1;33m\u001b[0m\u001b[1;33m\u001b[0m\u001b[0m\n\u001b[0;32m     40\u001b[0m     \u001b[0mprint\u001b[0m \u001b[1;33m(\u001b[0m\u001b[1;34m'Daya Listrik / Hari = '\u001b[0m\u001b[1;33m,\u001b[0m \u001b[0mdaily_token\u001b[0m \u001b[1;33m,\u001b[0m \u001b[1;34m'kWh'\u001b[0m\u001b[1;33m)\u001b[0m\u001b[1;33m\u001b[0m\u001b[0m\n",
      "\u001b[1;31mAttributeError\u001b[0m: 'int' object has no attribute 'astype'"
     ]
    }
   ],
   "source": [
    "try:\n",
    "    connection = mysql.connector.connect(\n",
    "        host='localhost',\n",
    "        database='ta',\n",
    "        user='root',\n",
    "        password='')\n",
    "\n",
    "    sql_device = \"SELECT device.id_device, device.nama, device.total_daya, token.kwatt, token.hari, device.nilai FROM device INNER JOIN token ON device.username=token.username\"\n",
    "    cursor = connection.cursor()\n",
    "    cursor.execute(sql_device)\n",
    "    records = cursor.fetchall()\n",
    "    print(\"Total Baris Pada Tabel Device: \", cursor.rowcount)\n",
    "    \n",
    "    #Inisialisasi\n",
    "    #Threshold / Batas Daya\n",
    "    #sisa_kwh = 340.7665885 / 30\n",
    "    #print (sisa_kwh)\n",
    "    print(\"\\nDevice Record\")\n",
    "    \n",
    "    #Tabel Data\n",
    "    print('ID          Device          Daya          Token          Hari          Value')\n",
    "    for row in records:\n",
    "        idd = row[0]\n",
    "        device = row[1]\n",
    "        daya = row[2]/1000 #Watt -> kW\n",
    "        token = row[3]\n",
    "        hari = row[4]\n",
    "        value = row[5]\n",
    "        print('{0}          {1}          {2}          {3}          {4}          {5}\\n'.format(idd, device, daya, token, hari, value))\n",
    "        \n",
    "        #Kromosom\n",
    "        solution_per_pop = cursor.rowcount\n",
    "        #populasi\n",
    "        pop_size = (solution_per_pop, cursor.rowcount)\n",
    "    \n",
    "    #Threshold / Batas Daya\n",
    "    daily_token = round(token / hari)\n",
    "    #daily_token = 130\n",
    "    print ('Daya Listrik / Hari = ', daily_token , 'kWh')\n",
    "    \n",
    "    #Inisialisasi Populasi\n",
    "    print('\\nPopulation size = {}'.format(pop_size))\n",
    "    #initial_population = np.random.randint(1,24, size = pop_size)\n",
    "    #ip = np.empty(initial_population.shape[0])\n",
    "    #print('Initial population: \\n{}'.format(initial_population))\n",
    "    #for i in range(initial_population.shape[0]):\n",
    "    #    w = np.sum(initial_population * daya)\n",
    "    #    #print('weight: \\n{}\\n'.format(w))\n",
    "    #    if w <= daily_token:\n",
    "    #        ip = initial_population\n",
    "    #    else :\n",
    "    #        ip[i] = 0 \n",
    "    #ip = ip.astype(int)\n",
    "    ipopulation = initial_population(solution_per_pop, daily_token)\n",
    "    num_generations = 50\n",
    "    print('Optimized Initial population: \\n{}'.format(ipopulation))\n",
    "\n",
    "except Error as e:\n",
    "    print(\"Error reading data from MySQL table\", e)\n",
    "finally:\n",
    "    if (connection.is_connected()):\n",
    "        connection.close()\n",
    "        cursor.close()\n",
    "        print(\"MySQL connection is closed\")"
   ]
  },
  {
   "cell_type": "code",
   "execution_count": 4,
   "metadata": {},
   "outputs": [],
   "source": [
    "#Evaluasi Kromosom\n",
    "def cal_fitness(weight, value, population, threshold):\n",
    "    fitness = np.empty(population.shape[0])\n",
    "    for i in range(population.shape[0]):\n",
    "        #Jumlahkan isi (gen) nilai / value dari prioritas per kromosom\n",
    "        S1 = np.sum(population[i] * value)\n",
    "        #print('value: \\n{}\\n'.format(S1))\n",
    "        #Jumlahkan isi (gen) berat (total daya) per kromosom\n",
    "        S2 = np.sum(population[i] * weight)\n",
    "        #print('weight: \\n{}\\n'.format(S2))\n",
    "        #Syarat jika daya <= sisa kWh, maka prioritas jadi nilai fitness\n",
    "        if S2 <= threshold:\n",
    "            fitness[i] = S1\n",
    "        else :\n",
    "            fitness[i] = 0 \n",
    "    return fitness.astype(int)   "
   ]
  },
  {
   "cell_type": "code",
   "execution_count": 5,
   "metadata": {},
   "outputs": [
    {
     "name": "stdout",
     "output_type": "stream",
     "text": [
      "Fitness: \n",
      "[27000 27000 27000 27000 27000 27000 27000 27000 27000 27000]\n",
      "\n"
     ]
    }
   ],
   "source": [
    "tes_f = cal_fitness(daya, value, ipopulation, daily_token)\n",
    "print('Fitness: \\n{}\\n'.format(tes_f))"
   ]
  },
  {
   "cell_type": "code",
   "execution_count": 6,
   "metadata": {},
   "outputs": [],
   "source": [
    "#Seleksi Kromosom (Tournament Selection)\n",
    "def selection(fitness, num_parents, population):\n",
    "    #Memanggil nilai fitness\n",
    "    #List, https://stackoverflow.com/questions/30515300/python-how-does-list0-0-differ-from-0-0\n",
    "    fitness = list(fitness)\n",
    "    #Deklarasi variabel parents\n",
    "    #numpy.empty(shape, dtype = float, order = 'C') : Return a new array of given shape and type, with random values.\n",
    "    parents = np.empty((num_parents, population.shape[1]))\n",
    "    #num_parents = populasi/2, sama dengan dipasangkan\n",
    "    for i in range(num_parents):\n",
    "        #Mencari kromosom dengan nilai fitness terbersar\n",
    "        #np.max, https://stackoverflow.com/questions/33569668/numpy-max-vs-amax-vs-maximum\n",
    "        max_fitness_idx = np.where(fitness == np.max(fitness))\n",
    "        #Memasukkan\n",
    "        parents[i,:] = population[max_fitness_idx[0][0], :]\n",
    "        fitness[max_fitness_idx[0][0]] = -999999\n",
    "    return parents"
   ]
  },
  {
   "cell_type": "code",
   "execution_count": 7,
   "metadata": {},
   "outputs": [
    {
     "name": "stdout",
     "output_type": "stream",
     "text": [
      "Parents: \n",
      "[[ 3.  3.  1.  5. 11. 14.  3.  2.  1.  2.]\n",
      " [ 1.  3.  2.  3.  9.  1.  9.  7.  6.  4.]\n",
      " [ 8.  3.  2.  7.  1.  2.  1.  6.  7.  8.]\n",
      " [ 1. 15.  5.  2.  8.  1.  3.  5.  3.  2.]\n",
      " [ 8.  2.  5.  8.  2.  6.  2.  1.  9.  2.]]\n",
      "\n"
     ]
    }
   ],
   "source": [
    "num_parents= int(pop_size[0]/2)\n",
    "tes_s = selection(tes_f, num_parents, ipopulation)\n",
    "print('Parents: \\n{}\\n'.format(tes_s))"
   ]
  },
  {
   "cell_type": "code",
   "execution_count": 8,
   "metadata": {},
   "outputs": [],
   "source": [
    "#One-Point Crossover\n",
    "def crossover(parents, num_offsprings):\n",
    "    #Inisialisasi variabel kromosom hasil crossover\n",
    "    offsprings = np.empty((num_offsprings, parents.shape[1]))\n",
    "    #I\n",
    "    crossover_point = int(parents.shape[1]/2)\n",
    "    crossover_rate = 0.8\n",
    "    i=0\n",
    "    while (parents.shape[0] < num_offsprings):\n",
    "        parent1_index = i%parents.shape[0]\n",
    "        parent2_index = (i+1)%parents.shape[0]\n",
    "        x = rd.random()\n",
    "        if x > crossover_rate:\n",
    "            continue\n",
    "        parent1_index = i%parents.shape[0]\n",
    "        parent2_index = (i+1)%parents.shape[0]\n",
    "        offsprings[i,0:crossover_point] = parents[parent1_index,0:crossover_point]\n",
    "        offsprings[i,crossover_point:] = parents[parent2_index,crossover_point:]\n",
    "        i=+1\n",
    "    return offsprings    "
   ]
  },
  {
   "cell_type": "code",
   "execution_count": 9,
   "metadata": {},
   "outputs": [
    {
     "name": "stdout",
     "output_type": "stream",
     "text": [
      "Crossover: \n",
      "[[ 3.  3.  1.  5. 11. 14.  3.  2.  1.  2.]\n",
      " [ 1.  3.  2.  3.  9.  1.  9.  7.  6.  4.]\n",
      " [ 8.  3.  2.  7.  1.  2.  1.  6.  7.  8.]\n",
      " [ 1. 15.  5.  2.  8.  1.  3.  5.  3.  2.]\n",
      " [ 8.  2.  5.  8.  2.  6.  2.  1.  9.  2.]]\n",
      "\n"
     ]
    }
   ],
   "source": [
    "num_offsprings = pop_size[0] - num_parents\n",
    "parents = tes_s\n",
    "tes_c = crossover(parents, num_offsprings)\n",
    "print('Crossover: \\n{}\\n'.format(tes_c))"
   ]
  },
  {
   "cell_type": "code",
   "execution_count": 10,
   "metadata": {},
   "outputs": [],
   "source": [
    "def mutation(offsprings):\n",
    "    mutants = np.empty((offsprings.shape))\n",
    "    mutation_rate = 0.4\n",
    "    for i in range(mutants.shape[0]):\n",
    "        random_value = rd.random()\n",
    "        mutants[i,:] = offsprings[i,:]\n",
    "        if random_value > mutation_rate:\n",
    "            continue\n",
    "        int_random_value = randint(0,offsprings.shape[1]-1)    \n",
    "        if mutants[i,int_random_value] == 0 :\n",
    "            mutants[i,int_random_value] = 1\n",
    "        else :\n",
    "            mutants[i,int_random_value] = 0\n",
    "    return mutants"
   ]
  },
  {
   "cell_type": "code",
   "execution_count": 11,
   "metadata": {},
   "outputs": [
    {
     "name": "stdout",
     "output_type": "stream",
     "text": [
      "Mutation: \n",
      "[[ 3.  3.  1.  5. 11. 14.  3.  2.  1.  2.]\n",
      " [ 1.  3.  2.  3.  9.  1.  9.  7.  6.  4.]\n",
      " [ 8.  3.  2.  7.  1.  2.  1.  6.  7.  8.]\n",
      " [ 1. 15.  5.  2.  8.  1.  3.  5.  3.  2.]\n",
      " [ 8.  2.  5.  8.  2.  6.  0.  1.  9.  2.]]\n",
      "\n"
     ]
    }
   ],
   "source": [
    "offsprings = tes_c\n",
    "tes_c = mutation(offsprings)\n",
    "print('Mutation: \\n{}\\n'.format(tes_c))"
   ]
  },
  {
   "cell_type": "code",
   "execution_count": 12,
   "metadata": {},
   "outputs": [],
   "source": [
    "def optimize(daya, value, population, pop_size, num_generations, threshold):\n",
    "    parameters, fitness_history = [], []\n",
    "    num_parents = int(pop_size[0]/2)\n",
    "    num_offsprings = pop_size[0] - num_parents \n",
    "    for i in range(num_generations):\n",
    "        fitness = cal_fitness(daya, value, population, threshold)\n",
    "        fitness_history.append(fitness)\n",
    "        parents = selection(fitness, num_parents, population)\n",
    "        offsprings = crossover(parents, num_offsprings)\n",
    "        mutants = mutation(offsprings)\n",
    "        population[0:parents.shape[0], :] = parents\n",
    "        population[parents.shape[0]:, :] = mutants\n",
    "        \n",
    "    print('Last generation: \\n{}\\n'.format(population))\n",
    "    for i in range(population.shape[0]):\n",
    "        lw = np.sum(population[i] * daya)\n",
    "    print('Last Weight: \\n{}\\n'.format(lw))\n",
    "    fitness_last_gen = cal_fitness(daya, value, population, threshold)      \n",
    "    print('Fitness of the last generation: \\n{}\\n'.format(fitness_last_gen))\n",
    "    max_fitness = np.where(fitness_last_gen == np.max(fitness_last_gen))\n",
    "    parameters.append(population[max_fitness[0][0],:])\n",
    "    return parameters, fitness_history"
   ]
  },
  {
   "cell_type": "code",
   "execution_count": 17,
   "metadata": {},
   "outputs": [
    {
     "name": "stdout",
     "output_type": "stream",
     "text": [
      "Last generation: \n",
      "[[ 3.  3.  1.  5. 11. 14.  3.  2.  1.  2.]\n",
      " [ 1.  3.  2.  3.  9.  1.  9.  7.  6.  4.]\n",
      " [ 8.  3.  2.  7.  1.  2.  1.  6.  7.  8.]\n",
      " [ 1. 15.  5.  2.  8.  1.  3.  5.  3.  2.]\n",
      " [ 8.  2.  5.  8.  2.  6.  2.  1.  9.  2.]\n",
      " [ 3.  3.  1.  5. 11. 14.  3.  2.  0.  2.]\n",
      " [ 1.  3.  2.  3.  9.  1.  9.  7.  6.  4.]\n",
      " [ 8.  3.  2.  7.  1.  2.  1.  6.  7.  8.]\n",
      " [ 1. 15.  5.  2.  8.  1.  3.  5.  0.  2.]\n",
      " [ 8.  2.  5.  8.  2.  6.  0.  1.  9.  2.]]\n",
      "\n",
      "Last Weight: \n",
      "5.375\n",
      "\n",
      "Fitness of the last generation: \n",
      "[27000 27000 27000 27000 27000 26400 27000 27000 25200 25800]\n",
      "\n"
     ]
    },
    {
     "ename": "AttributeError",
     "evalue": "'list' object has no attribute 'transpose'",
     "output_type": "error",
     "traceback": [
      "\u001b[1;31m---------------------------------------------------------------------------\u001b[0m",
      "\u001b[1;31mAttributeError\u001b[0m                            Traceback (most recent call last)",
      "\u001b[1;32m<ipython-input-17-51b189b27359>\u001b[0m in \u001b[0;36m<module>\u001b[1;34m\u001b[0m\n\u001b[0;32m      1\u001b[0m \u001b[0mparameters\u001b[0m\u001b[1;33m,\u001b[0m \u001b[0mfitness_history\u001b[0m \u001b[1;33m=\u001b[0m \u001b[0moptimize\u001b[0m\u001b[1;33m(\u001b[0m\u001b[0mdaya\u001b[0m\u001b[1;33m,\u001b[0m \u001b[0mvalue\u001b[0m\u001b[1;33m,\u001b[0m \u001b[0mipopulation\u001b[0m\u001b[1;33m,\u001b[0m \u001b[0mpop_size\u001b[0m\u001b[1;33m,\u001b[0m \u001b[0mnum_generations\u001b[0m\u001b[1;33m,\u001b[0m \u001b[0mdaily_token\u001b[0m\u001b[1;33m)\u001b[0m\u001b[1;33m\u001b[0m\u001b[0m\n\u001b[0;32m      2\u001b[0m \u001b[1;31m#print('The optimized parameters for the given inputs are: \\n{}'.format(parameters))\u001b[0m\u001b[1;33m\u001b[0m\u001b[1;33m\u001b[0m\u001b[0m\n\u001b[1;32m----> 3\u001b[1;33m \u001b[0mnp\u001b[0m\u001b[1;33m.\u001b[0m\u001b[0marray\u001b[0m\u001b[1;33m(\u001b[0m\u001b[0mparameters\u001b[0m\u001b[1;33m.\u001b[0m\u001b[0mtranspose\u001b[0m\u001b[1;33m(\u001b[0m\u001b[1;33m)\u001b[0m\u001b[1;33m)\u001b[0m\u001b[1;33m.\u001b[0m\u001b[0mastype\u001b[0m\u001b[1;33m(\u001b[0m\u001b[0mint\u001b[0m\u001b[1;33m)\u001b[0m\u001b[1;33m\u001b[0m\u001b[0m\n\u001b[0m\u001b[0;32m      4\u001b[0m \u001b[0mprint\u001b[0m\u001b[1;33m(\u001b[0m\u001b[0mparameters\u001b[0m\u001b[1;33m)\u001b[0m\u001b[1;33m\u001b[0m\u001b[0m\n\u001b[0;32m      5\u001b[0m \u001b[1;31m#for i in range(0, len(parameters)):\u001b[0m\u001b[1;33m\u001b[0m\u001b[1;33m\u001b[0m\u001b[0m\n",
      "\u001b[1;31mAttributeError\u001b[0m: 'list' object has no attribute 'transpose'"
     ]
    }
   ],
   "source": [
    "parameters, fitness_history = optimize(daya, value, ipopulation, pop_size, num_generations, daily_token)\n",
    "#print('The optimized parameters for the given inputs are: \\n{}'.format(parameters))\n",
    "np.array(parameters.transpose()).astype(int)\n",
    "print(parameters)\n",
    "#for i in range(0, len(parameters)): \n",
    "#    parameters[i] = int(parameters[i])\n",
    "#lw = np.vectorize(parameters)\n",
    "#print (\"Last Weight : \" + str(lw)) \n",
    "#print('Last Weight: \\n{}\\n'.format(lw))\n",
    "selected_items = idd * parameters\n",
    "print('\\nSelected items that will maximize the knapsack without breaking it:')\n",
    "print('ID')\n",
    "#print('ID          Device          Daya          Value')\n",
    "for row in records: #(selected_items.shape[1]):\n",
    "    #res = functools.reduce(lambda sub, ele: sub * 10 + ele, row)\n",
    "    #res = int(''.join(map(str, row)))\n",
    "    if selected_items[0][row] :#!= 0:\n",
    "        idd = row[0]\n",
    "        #device = row[1]\n",
    "        #daya = row[2]/1000 #Watt -> kW\n",
    "        #value = row[5]\n",
    "        #print('{0}          {1}          {2}          {5}\\n'.format(idd, device, daya, value))\n",
    "        print('{0}\\n'.format(idd))\n",
    "#for i in range(selected_items.shape[1]):\n",
    "#  if selected_items[0][i] != 0:\n",
    "#     print('{}\\n'.format(selected_items[0][i]))"
   ]
  },
  {
   "cell_type": "code",
   "execution_count": null,
   "metadata": {},
   "outputs": [],
   "source": []
  }
 ],
 "metadata": {
  "kernelspec": {
   "display_name": "Python 3",
   "language": "python",
   "name": "python3"
  },
  "language_info": {
   "codemirror_mode": {
    "name": "ipython",
    "version": 3
   },
   "file_extension": ".py",
   "mimetype": "text/x-python",
   "name": "python",
   "nbconvert_exporter": "python",
   "pygments_lexer": "ipython3",
   "version": "3.6.5"
  }
 },
 "nbformat": 4,
 "nbformat_minor": 4
}
