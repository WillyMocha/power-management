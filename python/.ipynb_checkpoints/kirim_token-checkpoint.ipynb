{
 "cells": [
  {
   "cell_type": "code",
   "execution_count": 1,
   "metadata": {},
   "outputs": [
    {
     "data": {
      "text/plain": [
       "{'resource_name': 'cin_EXSE4w04QQSN4XLo',\n",
       " 'resource_identifier': '/antares-cse/cin-EXSE4w04QQSN4XLo',\n",
       " 'parent_id': '/antares-cse/cnt-80rZPLXeT_2bOauX',\n",
       " 'created_time': '20201121T030511',\n",
       " 'last_modified_time': '20201121T030511',\n",
       " 'content': {'token': 340.7666}}"
      ]
     },
     "execution_count": 1,
     "metadata": {},
     "output_type": "execute_result"
    }
   ],
   "source": [
    "import mysql.connector\n",
    "from antares_http import antares\n",
    "from mysql.connector import Error\n",
    "\n",
    "connection = mysql.connector.connect(host='localhost', database='ta', user='root', password='')\n",
    "sql_select_Query = \"select kwatt from token\"\n",
    "cursor = connection.cursor()\n",
    "cursor.execute(sql_select_Query)\n",
    "records = cursor.fetchall()\n",
    "for row in records:\n",
    "    token = row[0]\n",
    "data = {\n",
    "    \"token\": token\n",
    "}\n",
    "antares.setAccessKey('f0a8c253151082fa:a32e0b8df59ac9d6')\n",
    "antares.send(data, 'power_management', 'token')"
   ]
  },
  {
   "cell_type": "code",
   "execution_count": null,
   "metadata": {},
   "outputs": [],
   "source": []
  }
 ],
 "metadata": {
  "kernelspec": {
   "display_name": "Python 3",
   "language": "python",
   "name": "python3"
  },
  "language_info": {
   "codemirror_mode": {
    "name": "ipython",
    "version": 3
   },
   "file_extension": ".py",
   "mimetype": "text/x-python",
   "name": "python",
   "nbconvert_exporter": "python",
   "pygments_lexer": "ipython3",
   "version": "3.7.9"
  }
 },
 "nbformat": 4,
 "nbformat_minor": 4
}
